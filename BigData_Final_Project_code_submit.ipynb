{
 "cells": [
  {
   "cell_type": "markdown",
   "id": "0bfb10a7-2f17-4adf-bdee-bfeefa06ea34",
   "metadata": {},
   "source": [
    "# Predictive Analytics for Enhancing Customer Purchase Intentions in E-Commerce"
   ]
  },
  {
   "cell_type": "markdown",
   "id": "93137a71-4734-41c4-bf97-5bba967dda84",
   "metadata": {},
   "source": [
    "### Team : Big Data Avengers"
   ]
  },
  {
   "cell_type": "markdown",
   "id": "ce790dec-8f62-4827-9dbf-73ba3ead05b3",
   "metadata": {
    "tags": []
   },
   "source": [
    "Team members : Gopi Chand Yenikapalli , Kushal Reddy Rededdy, Manoj Arasada, Manasa Swetha Tiramareddy"
   ]
  },
  {
   "cell_type": "markdown",
   "id": "fe2c8830-ab99-482d-bdb9-f4e35f89d538",
   "metadata": {},
   "source": [
    "# Business Challenge:\n",
    "### Our e-commerce business faces a challenge with declining customer engagement, increasing bounce rates, and decreasing revenue. To reverse this trend, we need to understand customer behavior, and make data-driven changes to boost revenue. This involves identifying pain points, optimizing design and content, and using predictive models for competitive positioning in the e-commerce market."
   ]
  },
  {
   "cell_type": "markdown",
   "id": "93adbc9f-8f43-4dd4-a8ea-94d35d0b3b1f",
   "metadata": {},
   "source": [
    "# Problem Statement:\n",
    "\n",
    "### The e-commerce industry has witnessed a significant shift in consumer behavior, with a growing preference for online shopping. In light of this trend, businesses are seeking to leverage data analytics to gain a competitive edge. Our e-commerce business is currently facing challenges characterized by declining customer engagement, increasing bounce rates, and consequently, diminishing revenues.\n",
    "\n",
    "### To address these issues, it is imperative to delve deeper into the online shopper's journey, analyzing their browsing and purchasing patterns. A predictive model is required to ascertain the intent of shoppers to make a purchase. This model will enable us to discern the likelihood of a customer completing a transaction based on their interaction with our online platform.\n",
    "\n",
    "### The objective is to utilize a comprehensive dataset that encapsulates the core aspects of the online shopping experience. By examining variables such as session duration, page views, cart bounce rate, and other relevant metrics, we aim to develop a robust predictive framework. This framework will not only forecast purchasing intentions but also inform targeted interventions to enhance the customer experience."
   ]
  },
  {
   "cell_type": "markdown",
   "id": "659a339c-4bac-4736-8568-60e7e57dcfa9",
   "metadata": {},
   "source": [
    "# Data Source:\n",
    "### The data is sourced from the UCI Machine Learning Repository, which can be found here: [Online Shoppers Purchasing Intention Dataset](https://archive.ics.uci.edu/dataset/468/online+shoppers+purchasing+intention+dataset).\n",
    "\n",
    "# Dataset Overview:\n",
    "### The dataset captures the essence of online shopping, a significant segment of the B2C (Business to Customer) market. Understanding the patterns of online shoppers in terms of their research and purchasing habits is vital for businesses. Insights into these behaviors can guide targeted marketing strategies and promotional activities to enhance sales and overall revenue."
   ]
  },
  {
   "cell_type": "markdown",
   "id": "a9b298d7-3167-4595-9108-72be9da0f837",
   "metadata": {},
   "source": [
    "# 1. Importing the Data"
   ]
  },
  {
   "cell_type": "code",
   "execution_count": 1,
   "id": "61811d96-a413-417e-bc14-c97a05a6c5ef",
   "metadata": {
    "tags": []
   },
   "outputs": [],
   "source": [
    "# Importing required packages\n",
    "from pyspark.sql import SparkSession;\n",
    "from pyspark.sql.types import StructType, StructField, IntegerType, StringType, DateType\n",
    "from pyspark.ml.feature import VectorAssembler,StringIndexer ,OneHotEncoder\n",
    "from pyspark.ml import Pipeline\n",
    "from pyspark.ml.classification import LogisticRegression\n",
    "from pyspark.ml.classification import LinearSVC\n",
    "from pyspark.ml.classification import DecisionTreeClassifier\n",
    "from pyspark.ml.classification import MultilayerPerceptronClassifier\n",
    "from pyspark.ml.classification import RandomForestClassifier\n",
    "from pyspark.ml.classification import GBTClassifier\n",
    "from pyspark.ml.classification import NaiveBayes\n",
    "from pyspark.ml.tuning import ParamGridBuilder\n",
    "from pyspark.ml.tuning import CrossValidator\n",
    "import pandas as pd\n",
    "from pyspark.context import SparkContext\n",
    "import matplotlib.pyplot as plt\n",
    "from pyspark.sql import functions as F\n",
    "from pyspark.ml.evaluation import BinaryClassificationEvaluator, MulticlassClassificationEvaluator\n"
   ]
  },
  {
   "cell_type": "code",
   "execution_count": 2,
   "id": "aa2d975b-9be6-4570-a232-56be95028b75",
   "metadata": {},
   "outputs": [
    {
     "name": "stderr",
     "output_type": "stream",
     "text": [
      "23/11/07 17:53:02 WARN Utils: Your hostname, localhost.localdomain resolves to a loopback address: 127.0.0.1; using 10.21.11.148 instead (on interface eth0)\n",
      "23/11/07 17:53:02 WARN Utils: Set SPARK_LOCAL_IP if you need to bind to another address\n",
      "Setting default log level to \"WARN\".\n",
      "To adjust logging level use sc.setLogLevel(newLevel). For SparkR, use setLogLevel(newLevel).\n",
      "23/11/07 17:53:03 WARN NativeCodeLoader: Unable to load native-hadoop library for your platform... using builtin-java classes where applicable\n"
     ]
    },
    {
     "name": "stdout",
     "output_type": "stream",
     "text": [
      "Spark Session WebUI Port: 4040\n"
     ]
    }
   ],
   "source": [
    "# warehouse_location points to the default location for managed databases and tables\n",
    "from os.path import abspath\n",
    "warehouse_location = abspath('spark-warehouse')\n",
    "\n",
    "spark = SparkSession.builder \\\n",
    "    .master(\"local[*]\") \\\n",
    "    .appName(\"ISM6562 PySpark Tutorials\") \\\n",
    "    .config(\"spark.sql.warehouse.dir\", warehouse_location) \\\n",
    "    .enableHiveSupport() \\\n",
    "    .getOrCreate()\n",
    "\n",
    "\n",
    "# Let's get the SparkContext object. It's the entry point to the Spark API. It's created when you create a sparksession\n",
    "sc = spark.sparkContext\n",
    "sc.setLogLevel(\"ERROR\") # only display errors (not warnings\n",
    "\n",
    "# note: If you have multiple spark sessions running (like from a previous notebook you've run), \n",
    "# this spark session webUI will be on a different port than the default (4040). One way to \n",
    "# identify this part is with the following line. If there was only one spark session running, \n",
    "# this will be 4040. If it's higher, it means there are still other spark sesssions still running.\n",
    "spark_session_port = spark.sparkContext.uiWebUrl.split(\":\")[-1]\n",
    "print(\"Spark Session WebUI Port: \" + spark_session_port)"
   ]
  },
  {
   "cell_type": "code",
   "execution_count": 3,
   "id": "0220f77a-f416-401a-894f-f98021679c4c",
   "metadata": {
    "tags": []
   },
   "outputs": [
    {
     "data": {
      "text/html": [
       "\n",
       "            <div>\n",
       "                <p><b>SparkSession - hive</b></p>\n",
       "                \n",
       "        <div>\n",
       "            <p><b>SparkContext</b></p>\n",
       "\n",
       "            <p><a href=\"http://linux:4040\">Spark UI</a></p>\n",
       "\n",
       "            <dl>\n",
       "              <dt>Version</dt>\n",
       "                <dd><code>v3.5.0</code></dd>\n",
       "              <dt>Master</dt>\n",
       "                <dd><code>local[*]</code></dd>\n",
       "              <dt>AppName</dt>\n",
       "                <dd><code>ISM6562 PySpark Tutorials</code></dd>\n",
       "            </dl>\n",
       "        </div>\n",
       "        \n",
       "            </div>\n",
       "        "
      ],
      "text/plain": [
       "<pyspark.sql.session.SparkSession at 0x7f76635cb0d0>"
      ]
     },
     "execution_count": 3,
     "metadata": {},
     "output_type": "execute_result"
    }
   ],
   "source": [
    "spark"
   ]
  },
  {
   "cell_type": "code",
   "execution_count": 4,
   "id": "6ba88533-d65d-4b0d-bb68-d8ef99a80a67",
   "metadata": {
    "tags": []
   },
   "outputs": [
    {
     "name": "stdout",
     "output_type": "stream",
     "text": [
      "+--------------+-----------------------+-------------+----------------------+--------------+-----------------------+-----------+---------+----------+----------+-----+----------------+-------+------+-----------+-----------------+-------+-------+\n",
      "|Administrative|Administrative_Duration|Informational|Informational_Duration|ProductRelated|ProductRelated_Duration|BounceRates|ExitRates|PageValues|SpecialDay|Month|OperatingSystems|Browser|Region|TrafficType|      VisitorType|Weekend|Revenue|\n",
      "+--------------+-----------------------+-------------+----------------------+--------------+-----------------------+-----------+---------+----------+----------+-----+----------------+-------+------+-----------+-----------------+-------+-------+\n",
      "|             0|                    0.0|            0|                   0.0|             1|                    0.0|        0.2|      0.2|       0.0|       0.0|  Feb|               1|      1|     1|          1|Returning_Visitor|  false|      0|\n",
      "|             0|                    0.0|            0|                   0.0|             2|                   64.0|        0.0|      0.1|       0.0|       0.0|  Feb|               2|      2|     1|          2|Returning_Visitor|  false|      0|\n",
      "|             0|                    0.0|            0|                   0.0|             1|                    0.0|        0.2|      0.2|       0.0|       0.0|  Feb|               4|      1|     9|          3|Returning_Visitor|  false|      0|\n",
      "|             0|                    0.0|            0|                   0.0|             2|            2.666666667|       0.05|     0.14|       0.0|       0.0|  Feb|               3|      2|     2|          4|Returning_Visitor|  false|      0|\n",
      "|             0|                    0.0|            0|                   0.0|            10|                  627.5|       0.02|     0.05|       0.0|       0.0|  Feb|               3|      3|     1|          4|Returning_Visitor|   true|      0|\n",
      "+--------------+-----------------------+-------------+----------------------+--------------+-----------------------+-----------+---------+----------+----------+-----+----------------+-------+------+-----------+-----------------+-------+-------+\n",
      "only showing top 5 rows\n",
      "\n"
     ]
    }
   ],
   "source": [
    "# Load data using spark\n",
    "df = spark.read.csv('data/online_shoppers_intention.csv', header = True, inferSchema= True)\n",
    "df.show(5)"
   ]
  },
  {
   "cell_type": "markdown",
   "id": "1216c753-481c-423e-bab5-3b875684a1cb",
   "metadata": {},
   "source": [
    "# 2. Data Exploration and Preprocessing"
   ]
  },
  {
   "cell_type": "code",
   "execution_count": 5,
   "id": "dc31ff81-733b-4715-925e-dd644e55e58b",
   "metadata": {
    "tags": []
   },
   "outputs": [
    {
     "name": "stdout",
     "output_type": "stream",
     "text": [
      "root\n",
      " |-- Administrative: integer (nullable = true)\n",
      " |-- Administrative_Duration: double (nullable = true)\n",
      " |-- Informational: integer (nullable = true)\n",
      " |-- Informational_Duration: double (nullable = true)\n",
      " |-- ProductRelated: integer (nullable = true)\n",
      " |-- ProductRelated_Duration: double (nullable = true)\n",
      " |-- BounceRates: double (nullable = true)\n",
      " |-- ExitRates: double (nullable = true)\n",
      " |-- PageValues: double (nullable = true)\n",
      " |-- SpecialDay: double (nullable = true)\n",
      " |-- Month: string (nullable = true)\n",
      " |-- OperatingSystems: integer (nullable = true)\n",
      " |-- Browser: integer (nullable = true)\n",
      " |-- Region: integer (nullable = true)\n",
      " |-- TrafficType: integer (nullable = true)\n",
      " |-- VisitorType: string (nullable = true)\n",
      " |-- Weekend: boolean (nullable = true)\n",
      " |-- Revenue: integer (nullable = true)\n",
      "\n"
     ]
    }
   ],
   "source": [
    "# print imported data schema\n",
    "df.printSchema()"
   ]
  },
  {
   "cell_type": "code",
   "execution_count": 6,
   "id": "b3fc7d0f-89e9-4b1d-bf09-e97b5319208f",
   "metadata": {
    "tags": []
   },
   "outputs": [
    {
     "name": "stdout",
     "output_type": "stream",
     "text": [
      "Rows=12330 and Cols=18\n"
     ]
    }
   ],
   "source": [
    "# Exploring number of rows and columns\n",
    "rows = df.count()\n",
    "cols = len(df.columns)\n",
    "print(f\"Rows={rows} and Cols={cols}\")"
   ]
  },
  {
   "cell_type": "code",
   "execution_count": 7,
   "id": "0179e73c-62cc-47e5-93c6-a47c24e699e4",
   "metadata": {
    "tags": []
   },
   "outputs": [
    {
     "name": "stdout",
     "output_type": "stream",
     "text": [
      "['Administrative', 'Administrative_Duration', 'Informational', 'Informational_Duration', 'ProductRelated', 'ProductRelated_Duration', 'BounceRates', 'ExitRates', 'PageValues', 'SpecialDay', 'Month', 'OperatingSystems', 'Browser', 'Region', 'TrafficType', 'VisitorType', 'Weekend', 'Revenue']\n"
     ]
    }
   ],
   "source": [
    "#see the column name\n",
    "column_names = df.columns\n",
    "print(column_names)"
   ]
  },
  {
   "cell_type": "markdown",
   "id": "24362a14-8674-4076-a78c-ba60a4424544",
   "metadata": {},
   "source": [
    "### Column Descriptions:\n",
    "\n",
    "Administrative: The number of pages of administrative information visited by the user.\n",
    "\n",
    "Administrative_Duration: The total time spent by the user on the administrative pages.\n",
    "\n",
    "Informational: The number of pages of informational content visited by the user.\n",
    "\n",
    "Informational_Duration: The total time spent by the user on the informational pages.\n",
    "\n",
    "ProductRelated: The number of pages of product-related content visited by the user.\n",
    "\n",
    "ProductRelated_Duration: The total time spent by the user on the product-related pages.\n",
    "\n",
    "BounceRates: The percentage of visitors who enter the website and leave without viewing any other pages.\n",
    "\n",
    "ExitRates: The percentage of visitors who leave the website after viewing a page.\n",
    "\n",
    "PageValues: The average value of the pages viewed by the user before the purchase.\n",
    "\n",
    "SpecialDay: The closeness of the visit to a special day like Mother's Day or Valentine's Day.\n",
    "\n",
    "Month: The month of the year when the user visited the website.\n",
    "\n",
    "OperatingSystem: The operating system used by the user.\n",
    "\n",
    "Browser: The browser used by the user.\n",
    "\n",
    "Region: The geographical region of the user.\n",
    "\n",
    "TrafficType: The type of traffic source from which the user arrived at the website.\n",
    "\n",
    "VisitorType: The type of visitor - returning or new.\n",
    "\n",
    "Weekend: A binary value indicating whether the visit occurred on a weekend or not.\n",
    "\n",
    "Revenue: The target variable indicating whether the user made a purchase or not (1 for purchase, 0 for no purchase)."
   ]
  },
  {
   "cell_type": "code",
   "execution_count": 8,
   "id": "f0f3228e-65bc-4200-94e7-91fd6242dba0",
   "metadata": {
    "tags": []
   },
   "outputs": [
    {
     "name": "stdout",
     "output_type": "stream",
     "text": [
      "+--------------+-----------------------+-------------+----------------------+--------------+-----------------------+-----------+---------+----------+----------+-----+----------------+-------+------+-----------+-----------+-------+-------+\n",
      "|Administrative|Administrative_Duration|Informational|Informational_Duration|ProductRelated|ProductRelated_Duration|BounceRates|ExitRates|PageValues|SpecialDay|Month|OperatingSystems|Browser|Region|TrafficType|VisitorType|Weekend|Revenue|\n",
      "+--------------+-----------------------+-------------+----------------------+--------------+-----------------------+-----------+---------+----------+----------+-----+----------------+-------+------+-----------+-----------+-------+-------+\n",
      "|             0|                      0|            0|                     0|             0|                      0|          0|        0|         0|         0|    0|               0|      0|     0|          0|          0|      0|      0|\n",
      "+--------------+-----------------------+-------------+----------------------+--------------+-----------------------+-----------+---------+----------+----------+-----+----------------+-------+------+-----------+-----------+-------+-------+\n",
      "\n"
     ]
    }
   ],
   "source": [
    "# check for if there is any missing values in remaining columns\n",
    "# Counting nulls in each column\n",
    "\n",
    "null_counts = df.select([F.count(F.when(F.col(c).isNull(), c)).alias(c) for c in df.columns])\n",
    "\n",
    "# Show the result\n",
    "null_counts.show()"
   ]
  },
  {
   "cell_type": "markdown",
   "id": "2b757993-86ed-4cc5-a0ab-2ed2e0e536ca",
   "metadata": {},
   "source": [
    "Here we can see that there are no null values in the dataset. We do not need to fix or replace any null values in the dataset."
   ]
  },
  {
   "cell_type": "code",
   "execution_count": 9,
   "id": "fe79a1f2-268a-416d-9593-c9f4c9569b15",
   "metadata": {
    "tags": []
   },
   "outputs": [
    {
     "name": "stdout",
     "output_type": "stream",
     "text": [
      "+-------+-----+\n",
      "|REVENUE|count|\n",
      "+-------+-----+\n",
      "|      1| 1908|\n",
      "|      0|10422|\n",
      "+-------+-----+\n",
      "\n"
     ]
    }
   ],
   "source": [
    "# Count the target variable how many 1 and 0 .\n",
    "revenue_count = df.groupBy('REVENUE').count()\n",
    "\n",
    "# Show the result\n",
    "revenue_count.show()"
   ]
  },
  {
   "cell_type": "markdown",
   "id": "245a8710-cdfd-4ce4-a0ca-449f46c7e35b",
   "metadata": {},
   "source": [
    "The target variable 'Revenue' is a binary variable that indicates whether a customer completed a transaction or not. As we see that, the majority(10,422) of the entries in the dataset have a value of 0 for the 'Revenue' column, indicating that the customer did not make a purchase. This is expected in the context of e-commerce, where a large number of visitors may browse through the website but only a small percentage may actually make a purchase."
   ]
  },
  {
   "cell_type": "markdown",
   "id": "3c62c089-b159-4e9a-9b80-6760f199f05c",
   "metadata": {},
   "source": [
    "# 3. Create a SQL table"
   ]
  },
  {
   "cell_type": "code",
   "execution_count": 10,
   "id": "a4ac6e5d-3907-44f5-a609-1d9db2ce3216",
   "metadata": {
    "tags": []
   },
   "outputs": [
    {
     "name": "stderr",
     "output_type": "stream",
     "text": [
      "                                                                                \r"
     ]
    }
   ],
   "source": [
    "# Drop table if exist and create new table named customer_purchase_intention\n",
    "spark.sql('drop table if exists customer_purchase_intention')\n",
    "df.write.saveAsTable('customer_purchase_intention')"
   ]
  },
  {
   "cell_type": "code",
   "execution_count": 11,
   "id": "3223d23f-93e0-46b4-9879-d80be561366c",
   "metadata": {
    "tags": []
   },
   "outputs": [
    {
     "name": "stdout",
     "output_type": "stream",
     "text": [
      "+---------+\n",
      "|namespace|\n",
      "+---------+\n",
      "|  default|\n",
      "|   w10_db|\n",
      "+---------+\n",
      "\n"
     ]
    }
   ],
   "source": [
    "#show existing namespaces  \n",
    "df_sql=spark.sql(\"show databases\")\n",
    "df_sql.show()"
   ]
  },
  {
   "cell_type": "code",
   "execution_count": 12,
   "id": "dcd47c2d-be86-4077-84ec-95aeb65dd12d",
   "metadata": {
    "tags": []
   },
   "outputs": [
    {
     "data": {
      "text/plain": [
       "[Table(name='customer_purchase_intention', catalog='spark_catalog', namespace=['default'], description=None, tableType='MANAGED', isTemporary=False)]"
      ]
     },
     "execution_count": 12,
     "metadata": {},
     "output_type": "execute_result"
    }
   ],
   "source": [
    "# List the Spark datawarehouse. It should show the default database.\n",
    "spark.catalog.listTables()"
   ]
  },
  {
   "cell_type": "code",
   "execution_count": 13,
   "id": "14f21f03-1e1b-4df7-9ab1-f1f0276a4f2d",
   "metadata": {
    "tags": []
   },
   "outputs": [
    {
     "name": "stdout",
     "output_type": "stream",
     "text": [
      "+---------+--------------------+-----------+\n",
      "|namespace|           tableName|isTemporary|\n",
      "+---------+--------------------+-----------+\n",
      "|  default|customer_purchase...|      false|\n",
      "+---------+--------------------+-----------+\n",
      "\n"
     ]
    }
   ],
   "source": [
    "# List the tables in the database.\n",
    "spark.sql(\"show tables\").show()"
   ]
  },
  {
   "cell_type": "markdown",
   "id": "eeb3f107-6ee4-4f02-a8de-857abc03451e",
   "metadata": {},
   "source": [
    "# 4. Data Exploration using Pyspark SQL and Visulizations using pandas"
   ]
  },
  {
   "cell_type": "code",
   "execution_count": 14,
   "id": "708c4889-efa3-4a95-a9ef-6d7b9bd4b2ed",
   "metadata": {
    "tags": []
   },
   "outputs": [
    {
     "name": "stdout",
     "output_type": "stream",
     "text": [
      "+-----+-----+\n",
      "|MONTH|count|\n",
      "+-----+-----+\n",
      "|  May| 3364|\n",
      "|  Nov| 2998|\n",
      "|  Mar| 1907|\n",
      "|  Dec| 1727|\n",
      "|  Oct|  549|\n",
      "|  Sep|  448|\n",
      "|  Aug|  433|\n",
      "|  Jul|  432|\n",
      "| June|  288|\n",
      "|  Feb|  184|\n",
      "+-----+-----+\n",
      "\n"
     ]
    },
    {
     "data": {
      "image/png": "[encoded data removed]",
      "text/plain": [
       "<Figure size 1000x600 with 1 Axes>"
      ]
     },
     "metadata": {},
     "output_type": "display_data"
    }
   ],
   "source": [
    "# Explore the distribution of monthly entires\n",
    "query_result = spark.sql(\"\"\"\n",
    "SELECT MONTH, COUNT(*) AS count\n",
    "FROM customer_purchase_intention\n",
    "GROUP BY MONTH\n",
    "ORDER BY count DESC\n",
    "\"\"\")\n",
    "query_result.show()\n",
    "\n",
    "# Collect the data into a Pandas DataFrame\n",
    "monthly_counts_pd = query_result.toPandas()\n",
    "\n",
    "# Plotting using Matplotlib\n",
    "plt.figure(figsize=(10, 6))\n",
    "plt.bar(monthly_counts_pd['MONTH'], monthly_counts_pd['count'], color='skyblue')\n",
    "plt.xlabel('Month')\n",
    "plt.ylabel('Count')\n",
    "plt.title('Counts of Observations per Month')\n",
    "plt.xticks(rotation=45)  # Rotate the x labels to make them readable\n",
    "plt.show()"
   ]
  },
  {
   "cell_type": "markdown",
   "id": "5b75623a-a1a0-45c4-840f-bf65b22a9cf2",
   "metadata": {},
   "source": [
    "We can see here that the 'MONTH' column is missing January and April months"
   ]
  },
  {
   "cell_type": "markdown",
   "id": "00f63424-65a3-497b-847e-4733499817a5",
   "metadata": {},
   "source": [
    "The 'MONTH' column in the dataset will be removed due to its limited variability with only 10 unique months represented, indicating that data for two months is missing. The unequal distribution of data across the months could introduce bias in month-based classification. Additionally, the 'SpecialDay' column captures time-sensitive information relevant to purchasing behavior, making 'MONTH' somewhat redundant. The presence of disproportionately high samples in certain months (like May and November) compared to significantly lower samples in others (such as February and June) further supports the decision to exclude 'MONTH' from further analysis to prevent potential biases."
   ]
  },
  {
   "cell_type": "code",
   "execution_count": 15,
   "id": "24d089ae-88a6-40d4-b71f-9ae663ba9a78",
   "metadata": {
    "tags": []
   },
   "outputs": [
    {
     "name": "stdout",
     "output_type": "stream",
     "text": [
      "+----------------+-----+\n",
      "|OPERATINGSYSTEMS|count|\n",
      "+----------------+-----+\n",
      "|               2| 6601|\n",
      "|               1| 2585|\n",
      "|               3| 2555|\n",
      "|               4|  478|\n",
      "|               8|   79|\n",
      "|               6|   19|\n",
      "|               7|    7|\n",
      "|               5|    6|\n",
      "+----------------+-----+\n",
      "\n"
     ]
    },
    {
     "data": {
      "image/png": "[encoded data removed]",
      "text/plain": [
       "<Figure size 800x800 with 1 Axes>"
      ]
     },
     "metadata": {},
     "output_type": "display_data"
    }
   ],
   "source": [
    "# Explore the distribution of Operating System\n",
    "query_result = spark.sql(\"\"\"\n",
    "SELECT OPERATINGSYSTEMS, COUNT(*) AS count\n",
    "FROM customer_purchase_intention\n",
    "GROUP BY OPERATINGSYSTEMS\n",
    "ORDER BY count DESC\n",
    "\"\"\")\n",
    "query_result.show()\n",
    "\n",
    "# Collect the data into a Pandas DataFrame\n",
    "os_count_pd = query_result.toPandas().set_index('OPERATINGSYSTEMS')\n",
    "\n",
    "# Sort the DataFrame by index (Operating System) for better visualization\n",
    "os_count_pd.sort_index(inplace=True)\n",
    "\n",
    "# Plotting using Matplotlib\n",
    "plt.figure(figsize=(8, 8))\n",
    "plt.pie(os_count_pd['count'], labels=os_count_pd.index, autopct='%1.1f%%')\n",
    "plt.title(\"Distribution of Operating Systems\")\n",
    "plt.show()"
   ]
  },
  {
   "cell_type": "markdown",
   "id": "e6c9cf42-ccfa-4a3f-a905-31e115eb240c",
   "metadata": {},
   "source": [
    "The \"OperatingSystems\" column, which is numerically labeled from 1 to 8, shows a predominant use of operating system 2, while operating system 5 is scarcely used. Given its limited impact on the predictive model's performance, this column will be dropped from the dataset."
   ]
  },
  {
   "cell_type": "code",
   "execution_count": 16,
   "id": "81ff320e-b101-4e27-83a1-af321c9072c9",
   "metadata": {
    "tags": []
   },
   "outputs": [
    {
     "name": "stdout",
     "output_type": "stream",
     "text": [
      "+-------+-----+\n",
      "|BROWSER|count|\n",
      "+-------+-----+\n",
      "|      2| 7961|\n",
      "|      1| 2462|\n",
      "|      4|  736|\n",
      "|      5|  467|\n",
      "|      6|  174|\n",
      "|     10|  163|\n",
      "|      8|  135|\n",
      "|      3|  105|\n",
      "|     13|   61|\n",
      "|      7|   49|\n",
      "|     12|   10|\n",
      "|     11|    6|\n",
      "|      9|    1|\n",
      "+-------+-----+\n",
      "\n"
     ]
    },
    {
     "data": {
      "image/png": "[encoded data removed]",
      "text/plain": [
       "<Figure size 1000x600 with 1 Axes>"
      ]
     },
     "metadata": {},
     "output_type": "display_data"
    }
   ],
   "source": [
    "# #Exploring the disctribution of Browser\n",
    "browser_counts = spark.sql(\"\"\"\n",
    "SELECT BROWSER, COUNT(*) AS count\n",
    "FROM customer_purchase_intention\n",
    "GROUP BY BROWSER\n",
    "ORDER BY count DESC\n",
    "\"\"\")\n",
    "browser_counts.show()\n",
    "\n",
    "# Collect the data into a Pandas DataFrame\n",
    "browser_counts_pd = browser_counts.toPandas()\n",
    "\n",
    "# Plotting using Matplotlib\n",
    "plt.figure(figsize=(10, 6))\n",
    "plt.bar(browser_counts_pd['BROWSER'].astype(str), browser_counts_pd['count'], color='skyblue')\n",
    "plt.title('Browsers')\n",
    "plt.xlabel('Browser')\n",
    "plt.ylabel('Count')\n",
    "plt.xticks(rotation=45)\n",
    "plt.show()\n"
   ]
  },
  {
   "cell_type": "markdown",
   "id": "710e0cfa-bdd6-4076-9077-5d2cc32289ec",
   "metadata": {},
   "source": [
    "The majority of users utilize browsers 1 and 2, while other browsers have significantly fewer users. Given this skewed distribution and the negligible contribution of the browser type to the predictive power of our model, the 'BROWSER' column will be excluded from further analysis."
   ]
  },
  {
   "cell_type": "code",
   "execution_count": 17,
   "id": "91642c69-75a8-4cf0-b106-f34822458e0b",
   "metadata": {
    "tags": []
   },
   "outputs": [
    {
     "name": "stdout",
     "output_type": "stream",
     "text": [
      "+-----------+-----+\n",
      "|TRAFFICTYPE|count|\n",
      "+-----------+-----+\n",
      "|          2| 3913|\n",
      "|          1| 2451|\n",
      "|          3| 2052|\n",
      "|          4| 1069|\n",
      "|         13|  738|\n",
      "|         10|  450|\n",
      "|          6|  444|\n",
      "|          8|  343|\n",
      "|          5|  260|\n",
      "|         11|  247|\n",
      "|         20|  198|\n",
      "|          9|   42|\n",
      "|          7|   40|\n",
      "|         15|   38|\n",
      "|         19|   17|\n",
      "|         14|   13|\n",
      "|         18|   10|\n",
      "|         16|    3|\n",
      "|         12|    1|\n",
      "|         17|    1|\n",
      "+-----------+-----+\n",
      "\n"
     ]
    },
    {
     "data": {
      "image/png": "[encoded data removed]",
      "text/plain": [
       "<Figure size 1000x600 with 1 Axes>"
      ]
     },
     "metadata": {},
     "output_type": "display_data"
    }
   ],
   "source": [
    "#Exploring the distribution of TrafficeType\n",
    "traffic_type_counts = spark.sql(\"\"\"\n",
    "SELECT TRAFFICTYPE, COUNT(*) AS count\n",
    "FROM customer_purchase_intention\n",
    "GROUP BY TRAFFICTYPE\n",
    "ORDER BY count DESC\n",
    "\"\"\")\n",
    "traffic_type_counts.show()\n",
    "# Collect the data into a Pandas DataFrame\n",
    "traffic_type_counts_pd = traffic_type_counts.toPandas()\n",
    "\n",
    "# Plotting using Matplotlib\n",
    "plt.figure(figsize=(10, 6))\n",
    "plt.bar(traffic_type_counts_pd['TRAFFICTYPE'].astype(str), traffic_type_counts_pd['count'], color='skyblue')\n",
    "plt.title('Traffic Type')\n",
    "plt.xlabel('Traffic Type')\n",
    "plt.ylabel('Count')\n",
    "plt.xticks(rotation=45)  # Rotate the x labels to make them readable\n",
    "plt.show()"
   ]
  },
  {
   "cell_type": "markdown",
   "id": "5b88dacb-0d5d-4487-8928-f74d536151e1",
   "metadata": {},
   "source": [
    "The \"TrafficType\" column will be omitted from the predictive modeling as its relevance to purchase likelihood appears limited. Although it offers insights into the origins of web traffic, which is valuable for marketing and advertising strategies, it does not substantially inform on the purchasing tendencies of visitors. Therefore, the focus will be on more direct indicators of user behavior and purchase intent."
   ]
  },
  {
   "cell_type": "code",
   "execution_count": 18,
   "id": "61e33aab-74b4-49b9-a0be-0e88dc9ee1ca",
   "metadata": {
    "tags": []
   },
   "outputs": [
    {
     "name": "stdout",
     "output_type": "stream",
     "text": [
      "+-------+-----+\n",
      "|WEEKEND|count|\n",
      "+-------+-----+\n",
      "|   true| 2868|\n",
      "|  false| 9462|\n",
      "+-------+-----+\n",
      "\n"
     ]
    },
    {
     "data": {
      "image/png": "[encoded data removed]",
      "text/plain": [
       "<Figure size 600x400 with 1 Axes>"
      ]
     },
     "metadata": {},
     "output_type": "display_data"
    }
   ],
   "source": [
    "#Exploring the distribution of Weekend purchases\n",
    "weekend_counts = spark.sql(\"\"\"\n",
    "SELECT WEEKEND, COUNT(*) AS count\n",
    "FROM customer_purchase_intention\n",
    "GROUP BY WEEKEND\n",
    "\"\"\")\n",
    "weekend_counts.show()\n",
    "\n",
    "# Collect the data into a Pandas DataFrame\n",
    "weekend_counts_pd = weekend_counts.toPandas()\n",
    "\n",
    "# Plotting using Matplotlib\n",
    "plt.figure(figsize=(6, 4))\n",
    "plt.bar(weekend_counts_pd['WEEKEND'].astype(str), weekend_counts_pd['count'], color='skyblue')\n",
    "plt.title('Weekend')\n",
    "plt.xlabel('Is Weekend?')\n",
    "plt.ylabel('Count')\n",
    "plt.xticks([0, 1], ['No', 'Yes'])  # Assuming the WEEKEND column is binary\n",
    "plt.show()"
   ]
  },
  {
   "cell_type": "markdown",
   "id": "7593466d-4a54-4f1c-80fe-ef4995e61c38",
   "metadata": {},
   "source": [
    "As per the famous article, Best Day of The Week for Online Sales,SaleCycle data found Wednesday and Thursday saw the busiest retail days online for online sales with Saturday being the worst day of the week for online sales. However in most recent findings, Monday has taken the lion’s share of online sales for the last two years in a row. Sunday currently bodes the lowest amount of online sales.The weekend is certainly the quietest time for ecommerce activity, when people have more leisure time and therefore are less likely to be around a device on which they can shop.https://www.salecycle.com/wp-content/uploads/2023/01/coponline-sales-volume-by-day-2022-2-1.png. from the above bar chart we can say majority claas is not weekend.There is weak correlation between days of the week and online shopping. asserts that Sundays and Mondays have the highest traffic for eCommerce.so, dropping this column too."
   ]
  },
  {
   "cell_type": "code",
   "execution_count": 19,
   "id": "569aa0bd-4eb9-4d46-bb69-b093f18189c1",
   "metadata": {
    "tags": []
   },
   "outputs": [
    {
     "name": "stdout",
     "output_type": "stream",
     "text": [
      "+------+-----+\n",
      "|REGION|count|\n",
      "+------+-----+\n",
      "|     1| 4780|\n",
      "|     2| 1136|\n",
      "|     3| 2403|\n",
      "|     4| 1182|\n",
      "|     5|  318|\n",
      "|     6|  805|\n",
      "|     7|  761|\n",
      "|     8|  434|\n",
      "|     9|  511|\n",
      "+------+-----+\n",
      "\n"
     ]
    },
    {
     "data": {
      "image/png": "[encoded data removed]",
      "text/plain": [
       "<Figure size 1000x600 with 1 Axes>"
      ]
     },
     "metadata": {},
     "output_type": "display_data"
    }
   ],
   "source": [
    "#Exploring the distribution of Region\n",
    "region_counts = spark.sql(\"\"\"\n",
    "SELECT REGION, COUNT(*) AS count\n",
    "FROM customer_purchase_intention\n",
    "GROUP BY REGION\n",
    "ORDER BY REGION\n",
    "\"\"\")\n",
    "region_counts.show()\n",
    "\n",
    "# Collect the data into a Pandas DataFrame\n",
    "region_counts_pd = region_counts.toPandas()\n",
    "\n",
    "# Plotting using Matplotlib\n",
    "plt.figure(figsize=(10, 6))\n",
    "plt.bar(region_counts_pd['REGION'].astype(str), region_counts_pd['count'], color='skyblue')\n",
    "plt.title('Region')\n",
    "plt.xlabel('Region')\n",
    "plt.ylabel('Count')\n",
    "plt.show()"
   ]
  },
  {
   "cell_type": "markdown",
   "id": "e926394d-0d84-42e2-af03-955620c66639",
   "metadata": {},
   "source": [
    "The \"Region\" column will be omitted from the feature set as its impact on purchase probability is considered marginal. Eliminating this column simplifies the model and focuses on more influential factors in predicting visitor purchasing behavior."
   ]
  },
  {
   "cell_type": "markdown",
   "id": "a79e4d7d-ca7e-47a7-953d-6c6fac55adc5",
   "metadata": {},
   "source": [
    "# 5. Feature Engineering"
   ]
  },
  {
   "cell_type": "markdown",
   "id": "51988bc6-1ec3-42c9-b06e-4b6a2ba9f6fd",
   "metadata": {
    "tags": []
   },
   "source": [
    "As per the above assumptions and data distribution pattern, we are excluding those mentioned columns of Month, Specialday, Operatingsystems, Browser, Traffictype, Weekend, and Region for our prediction model."
   ]
  },
  {
   "cell_type": "code",
   "execution_count": 20,
   "id": "d9742ea2-4345-4ffd-83d2-48a40d6fd8a1",
   "metadata": {
    "tags": []
   },
   "outputs": [],
   "source": [
    "df = df.drop('REGION', 'WEEKEND', 'TRAFFICTYPE', 'BROWSER', 'OPERATINGSYSTEMS', 'MONTH', 'SPECIALDAY')"
   ]
  },
  {
   "cell_type": "code",
   "execution_count": 21,
   "id": "9587709f-dbd2-4555-bcd6-8523a7ba8981",
   "metadata": {
    "tags": []
   },
   "outputs": [
    {
     "data": {
      "text/plain": [
       "['Administrative',\n",
       " 'Administrative_Duration',\n",
       " 'Informational',\n",
       " 'Informational_Duration',\n",
       " 'ProductRelated',\n",
       " 'ProductRelated_Duration',\n",
       " 'BounceRates',\n",
       " 'ExitRates',\n",
       " 'PageValues',\n",
       " 'VisitorType',\n",
       " 'Revenue']"
      ]
     },
     "execution_count": 21,
     "metadata": {},
     "output_type": "execute_result"
    }
   ],
   "source": [
    "df.columns"
   ]
  },
  {
   "cell_type": "code",
   "execution_count": 22,
   "id": "5bbde77f-6575-4d8e-ac0e-37db49e08787",
   "metadata": {
    "tags": []
   },
   "outputs": [
    {
     "name": "stdout",
     "output_type": "stream",
     "text": [
      "+--------------+-----------------------+-------------+----------------------+--------------+-----------------------+-----------+-----------+----------+-----------------+-------+\n",
      "|Administrative|Administrative_Duration|Informational|Informational_Duration|ProductRelated|ProductRelated_Duration|BounceRates|  ExitRates|PageValues|      VisitorType|Revenue|\n",
      "+--------------+-----------------------+-------------+----------------------+--------------+-----------------------+-----------+-----------+----------+-----------------+-------+\n",
      "|             0|                    0.0|            0|                   0.0|             0|                    0.0|       0.18|0.181818182|       0.0|Returning_Visitor|      0|\n",
      "|             0|                    0.0|            0|                   0.0|             0|                    0.0|        0.2|        0.2|       0.0|Returning_Visitor|      0|\n",
      "|             0|                    0.0|            0|                   0.0|             1|                    0.0|        0.0|        0.1|       0.0|            Other|      0|\n",
      "|             0|                    0.0|            0|                   0.0|             1|                    0.0|        0.0|        0.2|       0.0|Returning_Visitor|      0|\n",
      "|             0|                    0.0|            0|                   0.0|             1|                    0.0|        0.0|        0.2|       0.0|Returning_Visitor|      0|\n",
      "+--------------+-----------------------+-------------+----------------------+--------------+-----------------------+-----------+-----------+----------+-----------------+-------+\n",
      "only showing top 5 rows\n",
      "\n"
     ]
    }
   ],
   "source": [
    "input_column = ['Administrative', 'Administrative_Duration', 'Informational', 'Informational_Duration', 'ProductRelated',\n",
    " 'ProductRelated_Duration', 'BounceRates', 'ExitRates', 'PageValues', 'VisitorType', 'Revenue']\n",
    "train_df, test_df =df.randomSplit([0.7,0.3])\n",
    "train_df = train_df.select(input_column)\n",
    "test_df = test_df.select(input_column)\n",
    "train_df.show(5)"
   ]
  },
  {
   "cell_type": "markdown",
   "id": "9b5068bb-cdcb-4695-843c-6a0eb512c171",
   "metadata": {},
   "source": [
    "## 5.1 Address any Data Imbalance"
   ]
  },
  {
   "cell_type": "code",
   "execution_count": 23,
   "id": "05048d73-ee21-4f42-a2b1-500242adb494",
   "metadata": {
    "tags": []
   },
   "outputs": [
    {
     "name": "stdout",
     "output_type": "stream",
     "text": [
      "+-------+-----+\n",
      "|REVENUE|count|\n",
      "+-------+-----+\n",
      "|      1| 1355|\n",
      "|      0| 7312|\n",
      "+-------+-----+\n",
      "\n"
     ]
    }
   ],
   "source": [
    "revenue_count = train_df.groupBy('REVENUE').count()\n",
    "\n",
    "# Show the result\n",
    "revenue_count.show()"
   ]
  },
  {
   "cell_type": "code",
   "execution_count": 24,
   "id": "4935b2a2-2db0-4f82-bf43-0fbb6977c446",
   "metadata": {
    "tags": []
   },
   "outputs": [
    {
     "data": {
      "text/plain": [
       "69.17768832662449"
      ]
     },
     "execution_count": 24,
     "metadata": {},
     "output_type": "execute_result"
    }
   ],
   "source": [
    "# Checking for the data imbalance as per 10% rule\n",
    "((7355-1340)/(1340+7355))*100 # this calculation based on initial split"
   ]
  },
  {
   "cell_type": "markdown",
   "id": "828ad7a8-8b60-4784-a432-c9366606cf50",
   "metadata": {},
   "source": [
    " 69%, it is greater than 10% so raw dataset is imbalanced"
   ]
  },
  {
   "cell_type": "code",
   "execution_count": 25,
   "id": "a2edf607-8735-4cad-a0f9-de0999cab7d5",
   "metadata": {
    "tags": []
   },
   "outputs": [
    {
     "name": "stdout",
     "output_type": "stream",
     "text": [
      "5\n"
     ]
    }
   ],
   "source": [
    "# Calculate the ratio to oversample the minority class\n",
    "ratio = int(7355 / 1340)\n",
    "print(ratio)"
   ]
  },
  {
   "cell_type": "code",
   "execution_count": 26,
   "id": "bb3a4a1d-63ff-49c9-9bcf-bd844d55168f",
   "metadata": {
    "tags": []
   },
   "outputs": [],
   "source": [
    "from pyspark.sql.functions import col, explode, array, lit, rand\n",
    "# Separate majority and minority classes\n",
    "major_df = train_df.filter(col('REVENUE') == 0)\n",
    "minor_df = train_df.filter(col('REVENUE') == 1)"
   ]
  },
  {
   "cell_type": "code",
   "execution_count": 27,
   "id": "99d5d56c-85f6-4a2a-bc3c-3d2aa60903d2",
   "metadata": {
    "tags": []
   },
   "outputs": [],
   "source": [
    "# Calculate the oversampling ratio\n",
    "ratio = major_df.count() // minor_df.count()"
   ]
  },
  {
   "cell_type": "code",
   "execution_count": 28,
   "id": "fbad9eb7-5c1b-41af-be26-6b4770cc0e16",
   "metadata": {
    "tags": []
   },
   "outputs": [],
   "source": [
    "# Oversample the minority class\n",
    "# Create an array column with 'ratio' copies of the minority rows\n",
    "oversampled_minor_df = minor_df.withColumn('oversample', explode(array([lit(x) for x in range(ratio)]))).drop('oversample')\n",
    "\n",
    "# Combine the oversampled minority rows with the majority class\n",
    "balanced_df = major_df.unionAll(oversampled_minor_df)\n",
    "\n",
    "# Shuffle the DataFrame (optional but recommended)\n",
    "balanced_df = balanced_df.orderBy(rand())"
   ]
  },
  {
   "cell_type": "code",
   "execution_count": 29,
   "id": "f7d65f62-5d00-4e45-8b78-6925005f87b0",
   "metadata": {},
   "outputs": [],
   "source": [
    "train_df =balanced_df"
   ]
  },
  {
   "cell_type": "code",
   "execution_count": 30,
   "id": "3dbf5f59-13f4-4c63-ba80-34da0dd1cf6f",
   "metadata": {
    "tags": []
   },
   "outputs": [
    {
     "name": "stdout",
     "output_type": "stream",
     "text": [
      "+-------+-----+\n",
      "|REVENUE|count|\n",
      "+-------+-----+\n",
      "|      0| 7312|\n",
      "|      1| 6775|\n",
      "+-------+-----+\n",
      "\n"
     ]
    }
   ],
   "source": [
    "revenue_count = train_df.groupBy('REVENUE').count()\n",
    "\n",
    "# Show the result\n",
    "revenue_count.show()"
   ]
  },
  {
   "cell_type": "code",
   "execution_count": 31,
   "id": "6513db61-a41c-49e1-9328-e20bc8726850",
   "metadata": {
    "tags": []
   },
   "outputs": [
    {
     "data": {
      "text/plain": [
       "4.660263251511918"
      ]
     },
     "execution_count": 31,
     "metadata": {},
     "output_type": "execute_result"
    }
   ],
   "source": [
    "#checking for data imbalance as per 10% rule\n",
    "(7355-6700)/(7355+6700)*100"
   ]
  },
  {
   "cell_type": "markdown",
   "id": "b2490811-ed00-457a-b743-82054e31c10b",
   "metadata": {},
   "source": [
    "4.7% is less than 10% we can say now data set is balanced."
   ]
  },
  {
   "cell_type": "code",
   "execution_count": 32,
   "id": "7cfe50ac-4857-4076-a17a-63544388532c",
   "metadata": {},
   "outputs": [],
   "source": [
    "# Use StringIndexer to convert the categorical columns to hold numerical data\n",
    "VisitorType_indexer = StringIndexer(inputCol = 'VisitorType' , outputCol = 'VisitorType_index' , handleInvalid = 'keep')"
   ]
  },
  {
   "cell_type": "markdown",
   "id": "2ab01f86-7f06-48ca-a042-4aee8002be7e",
   "metadata": {},
   "source": [
    "OneHotEncoderEstimator converts the indexed data into a vector which will be effectively handled"
   ]
  },
  {
   "cell_type": "code",
   "execution_count": 33,
   "id": "a0b394c0-acf5-4dbd-b83d-2585f67ad3ea",
   "metadata": {
    "tags": []
   },
   "outputs": [],
   "source": [
    "data_encoder = OneHotEncoder(\n",
    "    inputCols=[\n",
    "        'VisitorType_index'\n",
    "    ], \n",
    "    outputCols= [\n",
    "        'VisitorType_by_vec'],\n",
    "    handleInvalid='keep'\n",
    ")"
   ]
  },
  {
   "cell_type": "markdown",
   "id": "90167dfd-dd4e-4908-a1c6-b4ad9ce66eb4",
   "metadata": {},
   "source": [
    "Vector assembler is used to create a vector of input features"
   ]
  },
  {
   "cell_type": "code",
   "execution_count": 34,
   "id": "2d1b94ae-0202-4322-b780-d3cdca471775",
   "metadata": {
    "tags": []
   },
   "outputs": [],
   "source": [
    "assembler = VectorAssembler(\n",
    "    inputCols=['Administrative',\n",
    " 'Administrative_Duration',\n",
    " 'Informational',\n",
    " 'Informational_Duration',\n",
    " 'ProductRelated',\n",
    " 'ProductRelated_Duration',\n",
    " 'BounceRates',\n",
    " 'ExitRates',\n",
    " 'PageValues',\n",
    " 'VisitorType_by_vec'],\n",
    "    outputCol=\"unscaled_features\"\n",
    ")"
   ]
  },
  {
   "cell_type": "code",
   "execution_count": 35,
   "id": "feedaba0-32e7-48d4-b35b-6eb6d4134a38",
   "metadata": {},
   "outputs": [],
   "source": [
    "# scaling values uisng standard scaler\n",
    "from pyspark.ml.feature import StandardScaler\n",
    "scaler = StandardScaler(inputCol=\"unscaled_features\",outputCol=\"features\")"
   ]
  },
  {
   "cell_type": "markdown",
   "id": "6c4d6ab9-5c80-4c6a-b03a-9cee66bc5458",
   "metadata": {},
   "source": [
    "# 6. Evaluation metrics Identification"
   ]
  },
  {
   "cell_type": "markdown",
   "id": "20cde8b6-5ff0-4fe4-95f8-d40af77808d4",
   "metadata": {},
   "source": [
    "### In this context of predicting customer purchasing intentions where false negatives (failing to identify a potential purchaser) and false positives (wrongly identifying a visitor as a potential purchaser) may have different costs to the business.\n",
    "\n",
    "Our aim to capture as many potential purchasers as possible because the cost of missing out on a purchaser is high, i.e recall and to ensure that the marketing efforts (like sending out promotional materials or coupons) are as efficient as possible and target only those who are very likely to purchase, (then precision is more important).\n",
    "\n",
    "### For our objectives— Maximizing the capture of potential purchasers while ensuring efficient marketing efforts—we should focus on both recall and precision. Since both false positives and false negatives carry significant costs, the F1 score, which balances precision and recall, would be the most appropriate metric for evaluating our predictive model."
   ]
  },
  {
   "cell_type": "markdown",
   "id": "7fa1f33f-7335-4bc2-8781-f0ec6246e56b",
   "metadata": {},
   "source": [
    "## F1 score"
   ]
  },
  {
   "cell_type": "markdown",
   "id": "188dccf1-514a-4c72-b172-fbcde15827b3",
   "metadata": {},
   "source": [
    "# 7. Machine Learning Models"
   ]
  },
  {
   "cell_type": "markdown",
   "id": "9c8adef2-6bf1-4ed9-9f34-2fe9b6067f3f",
   "metadata": {},
   "source": [
    "# 7.1 LogisticRegression model"
   ]
  },
  {
   "cell_type": "code",
   "execution_count": 36,
   "id": "fadf09d9-9eb6-4df7-bb35-1a7c88cd5dca",
   "metadata": {
    "tags": []
   },
   "outputs": [],
   "source": [
    "#Create an object for the Logistic Regression model\n",
    "lr_model = LogisticRegression(labelCol='Revenue')"
   ]
  },
  {
   "cell_type": "code",
   "execution_count": 37,
   "id": "b1c35b28-1249-4820-b467-8afb2549ae3e",
   "metadata": {
    "tags": []
   },
   "outputs": [],
   "source": [
    "#Pipeline is used to pass the data through indexer and assembler simultaneously.\n",
    "#Also, it helps to pre-rocess the test data in the same way as that of the train data. \n",
    "pipe = Pipeline(\n",
    "    stages=[\n",
    "        VisitorType_indexer,\n",
    "        data_encoder,\n",
    "        assembler,\n",
    "        scaler,\n",
    "        lr_model\n",
    "    ]\n",
    ")"
   ]
  },
  {
   "cell_type": "code",
   "execution_count": 38,
   "id": "58e26155-e461-4d22-963a-a246d1d04b23",
   "metadata": {
    "tags": []
   },
   "outputs": [
    {
     "name": "stdout",
     "output_type": "stream",
     "text": [
      "+-------+----------+\n",
      "|Revenue|prediction|\n",
      "+-------+----------+\n",
      "|      0|       0.0|\n",
      "|      0|       0.0|\n",
      "|      0|       0.0|\n",
      "|      0|       0.0|\n",
      "|      0|       0.0|\n",
      "+-------+----------+\n",
      "only showing top 5 rows\n",
      "\n"
     ]
    }
   ],
   "source": [
    "# run the pipeline\n",
    "fit_model=pipe.fit(train_df)\n",
    "\n",
    "# Store the results in a dataframe\n",
    "results = fit_model.transform(test_df)\n",
    "results.select(['Revenue','prediction']).show(5)"
   ]
  },
  {
   "cell_type": "markdown",
   "id": "610bec46-206b-4ba7-9b04-961341e2e595",
   "metadata": {},
   "source": [
    "# 7.1.1 Model Evaluation"
   ]
  },
  {
   "cell_type": "code",
   "execution_count": 39,
   "id": "38ceae13-4058-43a2-b154-b5fba7c112b5",
   "metadata": {
    "tags": []
   },
   "outputs": [
    {
     "name": "stdout",
     "output_type": "stream",
     "text": [
      "The area under the AUC curve is 0.805716553380276\n",
      "The area under the PR curve is 0.5038998440783342\n",
      "The accuracy of the model is 0.8733278733278733\n",
      "The recall of the model is 0.7088607594936709\n",
      "The precision of the model is 0.9457547169811321\n",
      "The f1_score of the model is 0.8790546633587107\n"
     ]
    }
   ],
   "source": [
    "# Create evaluators\n",
    "AUC_evaluator = BinaryClassificationEvaluator(rawPredictionCol='prediction', labelCol='Revenue', metricName='areaUnderROC')\n",
    "PR_evaluator = BinaryClassificationEvaluator(rawPredictionCol='prediction', labelCol='Revenue', metricName='areaUnderPR')\n",
    "evaluator = MulticlassClassificationEvaluator(labelCol=\"Revenue\", predictionCol=\"prediction\")\n",
    "\n",
    "# Evaluate metrics\n",
    "AUC = AUC_evaluator.evaluate(results)\n",
    "PR = PR_evaluator.evaluate(results)\n",
    "accuracy = evaluator.setMetricName(\"accuracy\").evaluate(results)\n",
    "recall = evaluator.setMetricName(\"recallByLabel\").setMetricLabel(1).evaluate(results)  \n",
    "precision = evaluator.setMetricName(\"precisionByLabel\").setMetricLabel(0).evaluate(results)\n",
    "f1_score = evaluator.setMetricName(\"f1\").evaluate(results)\n",
    "\n",
    "# Print results\n",
    "print(f\"The area under the AUC curve is {AUC}\")\n",
    "print(f\"The area under the PR curve is {PR}\")\n",
    "print(f\"The accuracy of the model is {accuracy}\")\n",
    "print(f\"The recall of the model is {recall}\")\n",
    "print(f\"The precision of the model is {precision}\")\n",
    "print(f\"The f1_score of the model is {f1_score}\")"
   ]
  },
  {
   "cell_type": "markdown",
   "id": "3b573317-cf9b-4d8f-aeac-70eccdc177ac",
   "metadata": {},
   "source": [
    "# 7.2 DecisionTree Classification"
   ]
  },
  {
   "cell_type": "code",
   "execution_count": 40,
   "id": "befb363f-664d-49e6-b285-40792bc5263d",
   "metadata": {
    "tags": []
   },
   "outputs": [],
   "source": [
    "# Creating an object for Decision Tree Classification\n",
    "dt_model = DecisionTreeClassifier(labelCol='Revenue', maxBins=5000)"
   ]
  },
  {
   "cell_type": "code",
   "execution_count": 41,
   "id": "74910db9-f5b5-4afe-84bc-ba3bbd472c4a",
   "metadata": {
    "tags": []
   },
   "outputs": [],
   "source": [
    "#Pipeline is used to pass the data through indexer and assembler simultaneously.\n",
    "#Also, it helps to pre-rocess the test data in the same way as that of the train data.\n",
    "pipe = Pipeline(\n",
    "    stages=[\n",
    "        VisitorType_indexer,\n",
    "        data_encoder,\n",
    "        assembler,\n",
    "        scaler,\n",
    "        dt_model\n",
    "    ]\n",
    ")"
   ]
  },
  {
   "cell_type": "code",
   "execution_count": 42,
   "id": "8d4e7637-ca70-446e-ad8e-e847b589f9e5",
   "metadata": {
    "tags": []
   },
   "outputs": [
    {
     "name": "stdout",
     "output_type": "stream",
     "text": [
      "+-------+----------+\n",
      "|Revenue|prediction|\n",
      "+-------+----------+\n",
      "|      0|       0.0|\n",
      "|      0|       0.0|\n",
      "|      0|       0.0|\n",
      "|      0|       0.0|\n",
      "|      0|       0.0|\n",
      "+-------+----------+\n",
      "only showing top 5 rows\n",
      "\n"
     ]
    }
   ],
   "source": [
    "# run the pipeline\n",
    "fit_model=pipe.fit(train_df)\n",
    "\n",
    "# Store the results in a dataframe\n",
    "results = fit_model.transform(test_df)\n",
    "results.select(['Revenue','prediction']).show(5)"
   ]
  },
  {
   "cell_type": "markdown",
   "id": "6551d1f4-f1b4-417e-b15a-2a679b4dbbdc",
   "metadata": {
    "tags": []
   },
   "source": [
    "# 7.2.1 Model Evaluation"
   ]
  },
  {
   "cell_type": "code",
   "execution_count": 43,
   "id": "c8b33e2c-cfb0-4378-99a3-f4ca7e028951",
   "metadata": {
    "tags": []
   },
   "outputs": [
    {
     "name": "stdout",
     "output_type": "stream",
     "text": [
      "The area under the AUC curve is 0.8368946349348483\n",
      "The area under the PR curve is 0.46297806272489817\n",
      "The accuracy of the model is 0.8454818454818455\n",
      "The recall of the model is 0.8245931283905967\n",
      "The precision of the model is 0.964572680788897\n",
      "The f1_score of the model is 0.8600127314856243\n"
     ]
    }
   ],
   "source": [
    "# Create evaluators\n",
    "AUC_evaluator = BinaryClassificationEvaluator(rawPredictionCol='prediction', labelCol='Revenue', metricName='areaUnderROC')\n",
    "PR_evaluator = BinaryClassificationEvaluator(rawPredictionCol='prediction', labelCol='Revenue', metricName='areaUnderPR')\n",
    "evaluator = MulticlassClassificationEvaluator(labelCol=\"Revenue\", predictionCol=\"prediction\")\n",
    "\n",
    "# Evaluate metrics\n",
    "AUC = AUC_evaluator.evaluate(results)\n",
    "PR = PR_evaluator.evaluate(results)\n",
    "accuracy = evaluator.setMetricName(\"accuracy\").evaluate(results)\n",
    "recall = evaluator.setMetricName(\"recallByLabel\").setMetricLabel(1).evaluate(results)  \n",
    "precision = evaluator.setMetricName(\"precisionByLabel\").setMetricLabel(0).evaluate(results)\n",
    "f1_score = evaluator.setMetricName(\"f1\").evaluate(results)\n",
    "\n",
    "# Print results\n",
    "print(f\"The area under the AUC curve is {AUC}\")\n",
    "print(f\"The area under the PR curve is {PR}\")\n",
    "print(f\"The accuracy of the model is {accuracy}\")\n",
    "print(f\"The recall of the model is {recall}\")\n",
    "print(f\"The precision of the model is {precision}\")\n",
    "print(f\"The f1_score of the model is {f1_score}\")"
   ]
  },
  {
   "cell_type": "markdown",
   "id": "61bef5e4-d458-4f4c-8059-a139547ab93f",
   "metadata": {},
   "source": [
    "# 7.3 RandomForest Classifier"
   ]
  },
  {
   "cell_type": "code",
   "execution_count": 44,
   "id": "187e0c8f-864a-43ac-ad66-fdfd548ea102",
   "metadata": {
    "tags": []
   },
   "outputs": [],
   "source": [
    "# Creating an object for RandomForest classfication model\n",
    "rf_model = RandomForestClassifier(labelCol='Revenue')"
   ]
  },
  {
   "cell_type": "code",
   "execution_count": 45,
   "id": "ee166faf-29f4-4ee6-87cd-d65ccd5f6439",
   "metadata": {
    "tags": []
   },
   "outputs": [],
   "source": [
    "#Pipeline is used to pass the data through indexer and assembler simultaneously.\n",
    "#Also, it helps to pre-rocess the test data in the same way as that of the train data.\n",
    "pipe = Pipeline(\n",
    "    stages=[\n",
    "        VisitorType_indexer,\n",
    "        data_encoder,\n",
    "        assembler,\n",
    "        scaler,\n",
    "        rf_model\n",
    "    ]\n",
    ")"
   ]
  },
  {
   "cell_type": "code",
   "execution_count": 46,
   "id": "6aead3cf-014d-4ea6-a9be-4df4f9b2fabf",
   "metadata": {
    "tags": []
   },
   "outputs": [
    {
     "name": "stdout",
     "output_type": "stream",
     "text": [
      "+-------+----------+\n",
      "|Revenue|prediction|\n",
      "+-------+----------+\n",
      "|      0|       0.0|\n",
      "|      0|       0.0|\n",
      "|      0|       0.0|\n",
      "|      0|       0.0|\n",
      "|      0|       0.0|\n",
      "+-------+----------+\n",
      "only showing top 5 rows\n",
      "\n"
     ]
    }
   ],
   "source": [
    "# run the pipeline\n",
    "fit_model=pipe.fit(train_df)\n",
    "\n",
    "# Store the results in a dataframe\n",
    "results = fit_model.transform(test_df)\n",
    "results.select(['Revenue','prediction']).show(5)"
   ]
  },
  {
   "cell_type": "markdown",
   "id": "f83b9f7f-0aff-4eeb-99f9-fbd0d01bc51b",
   "metadata": {},
   "source": [
    "# 7.3.1 Model Evaluation"
   ]
  },
  {
   "cell_type": "code",
   "execution_count": 47,
   "id": "fc566ed4-7a5b-4599-af92-8642c36ef71e",
   "metadata": {
    "tags": []
   },
   "outputs": [
    {
     "name": "stdout",
     "output_type": "stream",
     "text": [
      "The area under the AUC curve is 0.841760522842374\n",
      "The area under the PR curve is 0.5109621693478507\n",
      "The accuracy of the model is 0.8714168714168714\n",
      "The recall of the model is 0.7992766726943942\n",
      "The precision of the model is 0.9612023767913317\n",
      "The f1_score of the model is 0.8805502776319905\n"
     ]
    }
   ],
   "source": [
    "# Create evaluators\n",
    "AUC_evaluator = BinaryClassificationEvaluator(rawPredictionCol='prediction', labelCol='Revenue', metricName='areaUnderROC')\n",
    "PR_evaluator = BinaryClassificationEvaluator(rawPredictionCol='prediction', labelCol='Revenue', metricName='areaUnderPR')\n",
    "evaluator = MulticlassClassificationEvaluator(labelCol=\"Revenue\", predictionCol=\"prediction\")\n",
    "\n",
    "# Evaluate metrics\n",
    "AUC = AUC_evaluator.evaluate(results)\n",
    "PR = PR_evaluator.evaluate(results)\n",
    "accuracy = evaluator.setMetricName(\"accuracy\").evaluate(results)\n",
    "recall = evaluator.setMetricName(\"recallByLabel\").setMetricLabel(1).evaluate(results)  \n",
    "precision = evaluator.setMetricName(\"precisionByLabel\").setMetricLabel(0).evaluate(results)\n",
    "f1_score = evaluator.setMetricName(\"f1\").evaluate(results)\n",
    "\n",
    "# Print results\n",
    "print(f\"The area under the AUC curve is {AUC}\")\n",
    "print(f\"The area under the PR curve is {PR}\")\n",
    "print(f\"The accuracy of the model is {accuracy}\")\n",
    "print(f\"The recall of the model is {recall}\")\n",
    "print(f\"The precision of the model is {precision}\")\n",
    "print(f\"The f1_score of the model is {f1_score}\")\n"
   ]
  },
  {
   "cell_type": "markdown",
   "id": "b6009b1d-8011-4233-a735-9fb829d32505",
   "metadata": {},
   "source": [
    "# 7.4 Linear SVC model"
   ]
  },
  {
   "cell_type": "code",
   "execution_count": 48,
   "id": "9c41115a-184d-493a-b640-71931d6ca115",
   "metadata": {
    "tags": []
   },
   "outputs": [],
   "source": [
    "# Creating an object for Linear Support Vector Classification model\n",
    "svc_model = LinearSVC(labelCol = \"Revenue\")"
   ]
  },
  {
   "cell_type": "code",
   "execution_count": 49,
   "id": "c331174d-49f8-49ce-800c-2572c317df2e",
   "metadata": {
    "tags": []
   },
   "outputs": [],
   "source": [
    "#Pipeline is used to pass the data through indexer and assembler simultaneously.\n",
    "#Also, it helps to pre-rocess the test data in the same way as that of the train data.\n",
    "pipe = Pipeline(\n",
    "    stages=[\n",
    "        VisitorType_indexer,\n",
    "        data_encoder,\n",
    "        assembler,\n",
    "        scaler,\n",
    "        svc_model\n",
    "    ]\n",
    ")"
   ]
  },
  {
   "cell_type": "code",
   "execution_count": 50,
   "id": "61098a0c-60f5-4a7b-b1ea-d699ff50f498",
   "metadata": {
    "tags": []
   },
   "outputs": [
    {
     "name": "stdout",
     "output_type": "stream",
     "text": [
      "+-------+----------+\n",
      "|Revenue|prediction|\n",
      "+-------+----------+\n",
      "|      0|       0.0|\n",
      "|      0|       0.0|\n",
      "|      0|       0.0|\n",
      "|      0|       0.0|\n",
      "|      0|       0.0|\n",
      "+-------+----------+\n",
      "only showing top 5 rows\n",
      "\n"
     ]
    }
   ],
   "source": [
    "# run the pipeline\n",
    "fit_model=pipe.fit(train_df)\n",
    "\n",
    "# Store the results in a dataframe\n",
    "results = fit_model.transform(test_df)\n",
    "results.select(['Revenue','prediction']).show(5)"
   ]
  },
  {
   "cell_type": "markdown",
   "id": "94c45289-6fdb-47bb-80db-8e0f254472c7",
   "metadata": {},
   "source": [
    "# 7.4.1 Model Evaluation"
   ]
  },
  {
   "cell_type": "code",
   "execution_count": 51,
   "id": "0b9ac28b-96c8-4252-86f5-afa3a5f2d868",
   "metadata": {
    "tags": []
   },
   "outputs": [
    {
     "name": "stdout",
     "output_type": "stream",
     "text": [
      "The area under the AUC curve is 0.8142566416448137\n",
      "The area under the PR curve is 0.5264845644592481\n",
      "The accuracy of the model is 0.8815178815178815\n",
      "The recall of the model is 0.7179023508137432\n",
      "The precision of the model is 0.9477911646586346\n",
      "The f1_score of the model is 0.8862181841398609\n"
     ]
    }
   ],
   "source": [
    "# Create evaluators\n",
    "AUC_evaluator = BinaryClassificationEvaluator(rawPredictionCol='prediction', labelCol='Revenue', metricName='areaUnderROC')\n",
    "PR_evaluator = BinaryClassificationEvaluator(rawPredictionCol='prediction', labelCol='Revenue', metricName='areaUnderPR')\n",
    "evaluator = MulticlassClassificationEvaluator(labelCol=\"Revenue\", predictionCol=\"prediction\")\n",
    "\n",
    "# Evaluate metrics\n",
    "AUC = AUC_evaluator.evaluate(results)\n",
    "PR = PR_evaluator.evaluate(results)\n",
    "accuracy = evaluator.setMetricName(\"accuracy\").evaluate(results)\n",
    "recall = evaluator.setMetricName(\"recallByLabel\").setMetricLabel(1).evaluate(results)  \n",
    "precision = evaluator.setMetricName(\"precisionByLabel\").setMetricLabel(0).evaluate(results)\n",
    "f1_score = evaluator.setMetricName(\"f1\").evaluate(results)\n",
    "\n",
    "# Print results\n",
    "print(f\"The area under the AUC curve is {AUC}\")\n",
    "print(f\"The area under the PR curve is {PR}\")\n",
    "print(f\"The accuracy of the model is {accuracy}\")\n",
    "print(f\"The recall of the model is {recall}\")\n",
    "print(f\"The precision of the model is {precision}\")\n",
    "print(f\"The f1_score of the model is {f1_score}\")"
   ]
  },
  {
   "cell_type": "markdown",
   "id": "9a67f01a-b6dc-47b1-98e1-247a44a59b64",
   "metadata": {},
   "source": [
    "# 7.5 Multilayer Preceptron Classifier"
   ]
  },
  {
   "cell_type": "code",
   "execution_count": 52,
   "id": "12cf87fb-a216-4151-a672-96abf2aa0227",
   "metadata": {
    "tags": []
   },
   "outputs": [],
   "source": [
    "# creating an object for MLP classifier\n",
    "mlp_model = MultilayerPerceptronClassifier().\\\n",
    "        setLabelCol(\"Revenue\").\\\n",
    "        setFeaturesCol(\"features\").\\\n",
    "        setSeed(20).\\\n",
    "        setLayers([13, 24, 18, 2]) \n",
    "# the 13 is the number of input columns -\n",
    "#we need the first layer to be the same as the number of input columns\n",
    "\n"
   ]
  },
  {
   "cell_type": "code",
   "execution_count": 53,
   "id": "8878ecec-6a53-4f30-8c6b-01563c41564d",
   "metadata": {
    "tags": []
   },
   "outputs": [],
   "source": [
    "#Pipeline is used to pass the data through indexer and assembler simultaneously.\n",
    "#Also, it helps to pre-rocess the test data in the same way as that of the train data.\n",
    "pipe = Pipeline(\n",
    "    stages=[\n",
    "        VisitorType_indexer,\n",
    "        data_encoder,\n",
    "        assembler,\n",
    "        scaler,\n",
    "        mlp_model\n",
    "    ]\n",
    ")"
   ]
  },
  {
   "cell_type": "code",
   "execution_count": 54,
   "id": "bc79f9e8-85d0-40b6-9942-4768a5208c03",
   "metadata": {
    "tags": []
   },
   "outputs": [],
   "source": [
    "# run the pipeline\n",
    "fit_model=pipe.fit(train_df)"
   ]
  },
  {
   "cell_type": "code",
   "execution_count": 55,
   "id": "46124463-336e-4122-9cb7-e30564bf6894",
   "metadata": {
    "tags": []
   },
   "outputs": [],
   "source": [
    "# Store the results in a dataframe\n",
    "results = fit_model.transform(test_df)"
   ]
  },
  {
   "cell_type": "code",
   "execution_count": 56,
   "id": "575186db-3fba-4bd5-9623-84a691b9abc3",
   "metadata": {
    "tags": []
   },
   "outputs": [
    {
     "name": "stdout",
     "output_type": "stream",
     "text": [
      "+-------+----------+\n",
      "|Revenue|prediction|\n",
      "+-------+----------+\n",
      "|      0|       0.0|\n",
      "|      0|       0.0|\n",
      "|      0|       0.0|\n",
      "|      0|       0.0|\n",
      "|      0|       0.0|\n",
      "+-------+----------+\n",
      "only showing top 5 rows\n",
      "\n"
     ]
    }
   ],
   "source": [
    "results.select(['Revenue','prediction']).show(5)"
   ]
  },
  {
   "cell_type": "markdown",
   "id": "be5a8611-9d13-4090-9474-b6b7f50ebdc9",
   "metadata": {},
   "source": [
    "# 7.5.1 Model Evaluation"
   ]
  },
  {
   "cell_type": "code",
   "execution_count": 57,
   "id": "2d98d2c7-76aa-4f28-b4c4-1f406defc768",
   "metadata": {
    "tags": []
   },
   "outputs": [
    {
     "name": "stdout",
     "output_type": "stream",
     "text": [
      "The area under the AUC curve is 0.8342839117819785\n",
      "The area under the PR curve is 0.47500747792248693\n",
      "The accuracy of the model is 0.8536718536718537\n",
      "The recall of the model is 0.8065099457504521\n",
      "The precision of the model is 0.9616212338593975\n",
      "The f1_score of the model is 0.8661752585515377\n"
     ]
    }
   ],
   "source": [
    "# Create evaluators\n",
    "AUC_evaluator = BinaryClassificationEvaluator(rawPredictionCol='prediction', labelCol='Revenue', metricName='areaUnderROC')\n",
    "PR_evaluator = BinaryClassificationEvaluator(rawPredictionCol='prediction', labelCol='Revenue', metricName='areaUnderPR')\n",
    "evaluator = MulticlassClassificationEvaluator(labelCol=\"Revenue\", predictionCol=\"prediction\")\n",
    "\n",
    "# Evaluate metrics\n",
    "AUC = AUC_evaluator.evaluate(results)\n",
    "PR = PR_evaluator.evaluate(results)\n",
    "accuracy = evaluator.setMetricName(\"accuracy\").evaluate(results)\n",
    "recall = evaluator.setMetricName(\"recallByLabel\").setMetricLabel(1).evaluate(results)  \n",
    "precision = evaluator.setMetricName(\"precisionByLabel\").setMetricLabel(0).evaluate(results)\n",
    "f1_score = evaluator.setMetricName(\"f1\").evaluate(results)\n",
    "\n",
    "# Print results\n",
    "print(f\"The area under the AUC curve is {AUC}\")\n",
    "print(f\"The area under the PR curve is {PR}\")\n",
    "print(f\"The accuracy of the model is {accuracy}\")\n",
    "print(f\"The recall of the model is {recall}\")\n",
    "print(f\"The precision of the model is {precision}\")\n",
    "print(f\"The f1_score of the model is {f1_score}\")"
   ]
  },
  {
   "cell_type": "code",
   "execution_count": 58,
   "id": "2af2d247-6f24-45b2-a6f7-0f58e1012d66",
   "metadata": {
    "tags": []
   },
   "outputs": [],
   "source": [
    "#Don't forget that the Spark Session is still running until the Notebook kernel is restarted, or you run the following code\n",
    "spark.stop()"
   ]
  },
  {
   "cell_type": "markdown",
   "id": "fca49da6-32e3-4149-90cb-2d75d36a6500",
   "metadata": {},
   "source": [
    "# 8. Analysis"
   ]
  },
  {
   "cell_type": "markdown",
   "id": "2d317779-af63-449f-b599-4015dd2e652b",
   "metadata": {},
   "source": [
    "Logistic Regression: Shows a good balance between recall and precision, with a high precision rate. It has decent AUC and PR curves, indicating good discrimination and precision-recall balance. This model is reliable for predicting positive cases and not over-identifying negatives as positives.\n",
    "\n",
    "Decision Tree Classifier: It has a good AUC but a lower PR curve compared to Logistic Regression. It has high precision but lower recall than the Logistic Regression, which might indicate it's more conservative when predicting positives.\n",
    "\n",
    "Random Forest Classifier: Offers improvements over the Decision Tree in both AUC and PR, suggesting better overall performance. Its recall is lower than Decision Tree's, but its F1 score is high, indicating a good balance of precision and recall.\n",
    "\n",
    "Linear SVC: Presents the highest accuracy and a good F1 score, indicating a balanced model, but with a PR curve that is higher than the Decision Tree but lower than the RandomForest.\n",
    "\n",
    "Multilayer Perceptron Classifier: Shows competitive performance in terms of recall and precision. However, its PR curve is lower compared to others, which may be a concern if precision is critical."
   ]
  },
  {
   "cell_type": "markdown",
   "id": "f058ee77-913f-4074-858a-ea8dc0f0f51f",
   "metadata": {},
   "source": [
    "Area Under the ROC Curve (AUC): This reflects the model's ability to discriminate between the positive and negative classes. Higher values are better, with 1 representing a perfect model and 0.5 representing a model no better than random guessing.\n",
    "\n",
    "Area Under the PR Curve: This is similar to AUC but focuses on the positive class and is more informative when dealing with imbalanced datasets. Higher values indicate better performance."
   ]
  },
  {
   "cell_type": "markdown",
   "id": "e5d315eb-b5a1-42b8-a796-b68e5be3b787",
   "metadata": {},
   "source": [
    "Best Performing Model: The Linear SVC model appears to be the best performing model overall. It has the highest accuracy and F1 score, which indicates that it is the most balanced model in terms of precision and recall. Moreover, it has a competitive AUC and the highest PR curve, suggesting it handles the positive class well, which is essential in imbalanced datasets."
   ]
  },
  {
   "cell_type": "markdown",
   "id": "92bdd078-95b6-4c3d-b08a-4d9bf66319d6",
   "metadata": {},
   "source": [
    "# Business Conclusion"
   ]
  },
  {
   "cell_type": "markdown",
   "id": "196997ec-1db7-4765-8677-a379991e29b6",
   "metadata": {},
   "source": [
    "The analysis reveals that implementing a Random Forest for predictive analytics in our e-commerce platform is the most effective strategy. This model's superior F1 score, and AUC  will allow us to accurately predict and enhance customer purchase intentions."
   ]
  },
  {
   "cell_type": "markdown",
   "id": "0a74ab0d-b4c7-4af1-8a1e-de26f57201a4",
   "metadata": {},
   "source": [
    "Adopting this model will enable targeted marketing strategies, optimize customer interactions, and potentially reduce bounce rates, thereby increasing customer engagement and revenue. The integration of this model into our business processes, complemented by a responsive data feedback system, is essential for adapting to consumer trends and securing a competitive advantage in the rapidly evolving e-commerce landscape."
   ]
  }
 ],
 "metadata": {
  "kernelspec": {
   "display_name": "Python 3 (ipykernel)",
   "language": "python",
   "name": "python3"
  },
  "language_info": {
   "codemirror_mode": {
    "name": "ipython",
    "version": 3
   },
   "file_extension": ".py",
   "mimetype": "text/x-python",
   "name": "python",
   "nbconvert_exporter": "python",
   "pygments_lexer": "ipython3",
   "version": "3.10.12"
  }
 },
 "nbformat": 4,
 "nbformat_minor": 5
}
